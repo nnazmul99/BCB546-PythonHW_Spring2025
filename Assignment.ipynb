{
 "cells": [
  {
   "cell_type": "code",
   "execution_count": null,
   "id": "1717a9d0",
   "metadata": {},
   "outputs": [],
   "source": [
    "from Bio import SeqIO"
   ]
  },
  {
   "cell_type": "code",
   "execution_count": null,
   "id": "93674f6f",
   "metadata": {},
   "outputs": [],
   "source": [
    "from Bio.Data import CodonTable\n",
    "import pandas as pd\n",
    "from Bio.Seq import Seq\n",
    "import matplotlib as plt\n",
    "import matplotlib.pyplot as plt\n",
    "plt.style.use('ggplot')"
   ]
  },
  {
   "cell_type": "code",
   "execution_count": null,
   "id": "10f58af8",
   "metadata": {},
   "outputs": [],
   "source": [
    "pip install biopython"
   ]
  },
  {
   "cell_type": "code",
   "execution_count": null,
   "id": "a633469f",
   "metadata": {},
   "outputs": [],
   "source": [
    "def get_sequences_from_file(fasta_fn):\n",
    "    sequence_data_dict = {} #Initialize an empty dictionary to store species names as key and the sequence as value\n",
    "    for record in SeqIO.parse(fasta_fn,\"fasta\"): #This reads the FASTA file (fasta_fn), and returns an iterator that loops through the entries in the file\n",
    "        description = record.description.split() #Splits the description string into a list of words\n",
    "        species_name = description[1] + \" \" + description[2] #This extracts the species name by taking the second and third elements of the split description list\n",
    "        sequence_data_dict[species_name] = record.seq #Contains the actual DNA sequence in the entry\n",
    "    return(sequence_data_dict)#This function returns the dictionary"
   ]
  },
  {
   "cell_type": "code",
   "execution_count": 58,
   "id": "f230f838",
   "metadata": {},
   "outputs": [
    {
     "name": "stdout",
     "output_type": "stream",
     "text": [
      "Table 2 Vertebrate Mitochondrial, SGC1\n",
      "\n",
      "  |  T      |  C      |  A      |  G      |\n",
      "--+---------+---------+---------+---------+--\n",
      "T | TTT F   | TCT S   | TAT Y   | TGT C   | T\n",
      "T | TTC F   | TCC S   | TAC Y   | TGC C   | C\n",
      "T | TTA L   | TCA S   | TAA Stop| TGA W   | A\n",
      "T | TTG L   | TCG S   | TAG Stop| TGG W   | G\n",
      "--+---------+---------+---------+---------+--\n",
      "C | CTT L   | CCT P   | CAT H   | CGT R   | T\n",
      "C | CTC L   | CCC P   | CAC H   | CGC R   | C\n",
      "C | CTA L   | CCA P   | CAA Q   | CGA R   | A\n",
      "C | CTG L   | CCG P   | CAG Q   | CGG R   | G\n",
      "--+---------+---------+---------+---------+--\n",
      "A | ATT I(s)| ACT T   | AAT N   | AGT S   | T\n",
      "A | ATC I(s)| ACC T   | AAC N   | AGC S   | C\n",
      "A | ATA M(s)| ACA T   | AAA K   | AGA Stop| A\n",
      "A | ATG M(s)| ACG T   | AAG K   | AGG Stop| G\n",
      "--+---------+---------+---------+---------+--\n",
      "G | GTT V   | GCT A   | GAT D   | GGT G   | T\n",
      "G | GTC V   | GCC A   | GAC D   | GGC G   | C\n",
      "G | GTA V   | GCA A   | GAA E   | GGA G   | A\n",
      "G | GTG V(s)| GCG A   | GAG E   | GGG G   | G\n",
      "--+---------+---------+---------+---------+--\n"
     ]
    }
   ],
   "source": [
    "mito_table = CodonTable.unambiguous_dna_by_name[\"Vertebrate Mitochondrial\"] #using Biopython's CodonTable to access a specific genetic code table for vertebrate mitochondria.\n",
    "print(mito_table) #looking at the contents of mito_table"
   ]
  },
  {
   "cell_type": "code",
   "execution_count": 59,
   "id": "b7db1121",
   "metadata": {},
   "outputs": [],
   "source": [
    "def translate_function(string_nucleotides): #defines the function translate_function\n",
    "    mito_table = CodonTable.unambiguous_dna_by_name[\"Vertebrate Mitochondrial\"] #This line accesses the Vertebrate Mitochondrial codon table from CodonTable.unambiguous_dna_by_name\n",
    "    aa_seq_string = '' # Initializes Empty String\n",
    "    if len(string_nucleotides)%3 == 0: #checks if the length of nucleotide string is divisible by 3\n",
    "       for i in range(0, len(string_nucleotides), 3):\n",
    "           codon = string_nucleotides[ i:i + 3]\n",
    "    if codon in [\"TAA\", \"TAG\", \"AGA\", \"AGG\"]: #Check if codon is a stop codon\n",
    "            return aa_seq_string\n",
    "    aa_seq_string+= mito_table[codon] #Translate codon to amino acid\n",
    "    return aa_seq_string\n",
    "    "
   ]
  },
  {
   "cell_type": "code",
   "execution_count": 60,
   "id": "e0660505",
   "metadata": {},
   "outputs": [],
   "source": [
    "def translate(string_nucleotides):\n",
    "    seq_string = Seq(string_nucleotides).translate(table=2, to_stop=True) #This specifies that the translation should use Table 2 and the translation will stop when a stop codon. \n",
    "    return str(seq_string)\n",
    "\n"
   ]
  },
  {
   "cell_type": "code",
   "execution_count": 61,
   "id": "e38c64ff",
   "metadata": {},
   "outputs": [],
   "source": [
    "from Bio.SeqUtils.ProtParam import ProteinAnalysis\n",
    "\n",
    "def compute_molecular_weight(aa_seq):\n",
    "    aa_analysis = ProteinAnalysis(aa_seq) #creates a ProteinAnalysis object for the input amino acid sequence aa_seq\n",
    "    molecular_weight = aa_analysis.molecular_weight() #calculates the molecular weight of the protein sequence in Daltons (Da)\n",
    "    return molecular_weight #returns the computed molecular weight of the protein sequence\n"
   ]
  },
  {
   "cell_type": "code",
   "execution_count": 62,
   "id": "cbc851c8",
   "metadata": {},
   "outputs": [],
   "source": [
    "def gc_content(DNA_string): #defines the function gc_content that takes a single parameter, DNA_string, which is a string of DNA nucleotides\n",
    "    G_count = DNA_string.count(\"G\") #counts the number of guanine (G) nucleotides in the DNA sequence.\n",
    "    C_count = DNA_string.count(\"C\") #counts the number of cytosine (C) nucleotides in the DNA sequence.\n",
    "    DNAstring_length = len(DNA_string) #returns the total length of the DNA string\n",
    "    GC_content = (C_count + G_count) / DNAstring_length #Calculating GC Content \n",
    "    return GC_content #returns the calculated GC content value\n"
   ]
  },
  {
   "cell_type": "code",
   "execution_count": 63,
   "id": "ddfd005f",
   "metadata": {},
   "outputs": [],
   "source": [
    "cytb_seqs = get_sequences_from_file(\"penguins_cytb.fasta\")\n"
   ]
  },
  {
   "cell_type": "code",
   "execution_count": 64,
   "id": "c041a510",
   "metadata": {},
   "outputs": [],
   "source": [
    "penguins_df = pd.read_csv(\"penguins_mass.csv\")\n",
    "species_list = list(penguins_df[\"species\"])"
   ]
  },
  {
   "cell_type": "code",
   "execution_count": 65,
   "id": "7165002c",
   "metadata": {},
   "outputs": [
    {
     "data": {
      "text/plain": [
       "{'Aptenodytes forsteri': Seq('ATGGCCCCAAATCTCCGAAAATCCCATCCCCTCCTAAAAATAATTAATAACTCC...TAA'),\n",
       " 'Aptenodytes patagonicus': Seq('ATGGCCCCAAACCTCCGAAAATCCCATCCTCTCCTAAAAATAATTAATAACTCC...TAA'),\n",
       " 'Eudyptes chrysocome': Seq('ATGGCCCCCAACCTCCGAAAATCCCACCCCCTCCTAAAAACAATCAATAACTCC...TAA'),\n",
       " 'Eudyptes chrysolophus': Seq('ATGGCCCCCAACCTCCGAAAATCCCACCCCCTCCTAAAAACAATCAATAACTCC...TAA'),\n",
       " 'Eudyptes sclateri': Seq('ATGGCCCCCAACCTCCGAAAATCCCACCCCCTCCTAAAAACAATCAATAACTCC...TAA'),\n",
       " 'Eudyptula minor': Seq('ATGGCCCCCAACCTCCGAAAATCTCACCCCCTCCTAAAAATAATCAACAACTCT...TAA'),\n",
       " 'Pygoscelis adeliae': Seq('ATGGCCCCCAACCTCCGAAAATCCCACCCTCTCCTAAAAATAATTAACAACTCC...TAA'),\n",
       " 'Pygoscelis antarctica': Seq('ATGGCCCCCAACCTCCGAAAATCCCACCCTCTCCTAAAAATAATCAACAACTCC...TAG'),\n",
       " 'Pygoscelis papua': Seq('ATGGCCCCCAACCTTCGAAAATCCCACCCTCTCCTAAAAATAATCAACAAATCC...TAG'),\n",
       " 'Spheniscus demersus': Seq('ATGGCCCCCAACCTCCGAAAATCCCACCCTCTCCTAAAAACAATCAACAACTCC...TAA'),\n",
       " 'Spheniscus humboldti': Seq('ATGGCCCCCAACCTCCGAAAATCCCACCCTCTCCTAAAAACAATCAACAACTCC...TAA'),\n",
       " 'Spheniscus magellanicus': Seq('ATGGCCCCCAACCTCCGAAAATCCCACCCTCTCCTAAAAACAATCAACAACTCC...TAA')}"
      ]
     },
     "execution_count": 65,
     "metadata": {},
     "output_type": "execute_result"
    }
   ],
   "source": [
    "cytb_seqs"
   ]
  },
  {
   "cell_type": "code",
   "execution_count": 66,
   "id": "ee036105",
   "metadata": {},
   "outputs": [
    {
     "data": {
      "text/html": [
       "<div>\n",
       "<style scoped>\n",
       "    .dataframe tbody tr th:only-of-type {\n",
       "        vertical-align: middle;\n",
       "    }\n",
       "\n",
       "    .dataframe tbody tr th {\n",
       "        vertical-align: top;\n",
       "    }\n",
       "\n",
       "    .dataframe thead th {\n",
       "        text-align: right;\n",
       "    }\n",
       "</style>\n",
       "<table border=\"1\" class=\"dataframe\">\n",
       "  <thead>\n",
       "    <tr style=\"text-align: right;\">\n",
       "      <th></th>\n",
       "      <th>species</th>\n",
       "      <th>mass</th>\n",
       "    </tr>\n",
       "  </thead>\n",
       "  <tbody>\n",
       "    <tr>\n",
       "      <th>0</th>\n",
       "      <td>Aptenodytes forsteri</td>\n",
       "      <td>28.00</td>\n",
       "    </tr>\n",
       "    <tr>\n",
       "      <th>1</th>\n",
       "      <td>Aptenodytes patagonicus</td>\n",
       "      <td>13.40</td>\n",
       "    </tr>\n",
       "    <tr>\n",
       "      <th>2</th>\n",
       "      <td>Eudyptes chrysocome</td>\n",
       "      <td>2.80</td>\n",
       "    </tr>\n",
       "    <tr>\n",
       "      <th>3</th>\n",
       "      <td>Eudyptes chrysolophus</td>\n",
       "      <td>4.50</td>\n",
       "    </tr>\n",
       "    <tr>\n",
       "      <th>4</th>\n",
       "      <td>Eudyptes sclateri</td>\n",
       "      <td>4.25</td>\n",
       "    </tr>\n",
       "    <tr>\n",
       "      <th>5</th>\n",
       "      <td>Eudyptula minor</td>\n",
       "      <td>1.60</td>\n",
       "    </tr>\n",
       "    <tr>\n",
       "      <th>6</th>\n",
       "      <td>Pygoscelis adeliae</td>\n",
       "      <td>4.60</td>\n",
       "    </tr>\n",
       "    <tr>\n",
       "      <th>7</th>\n",
       "      <td>Pygoscelis antarctica</td>\n",
       "      <td>4.10</td>\n",
       "    </tr>\n",
       "    <tr>\n",
       "      <th>8</th>\n",
       "      <td>Pygoscelis papua</td>\n",
       "      <td>6.10</td>\n",
       "    </tr>\n",
       "    <tr>\n",
       "      <th>9</th>\n",
       "      <td>Spheniscus demersus</td>\n",
       "      <td>3.20</td>\n",
       "    </tr>\n",
       "    <tr>\n",
       "      <th>10</th>\n",
       "      <td>Spheniscus humboldti</td>\n",
       "      <td>4.75</td>\n",
       "    </tr>\n",
       "    <tr>\n",
       "      <th>11</th>\n",
       "      <td>Spheniscus magellanicus</td>\n",
       "      <td>3.40</td>\n",
       "    </tr>\n",
       "  </tbody>\n",
       "</table>\n",
       "</div>"
      ],
      "text/plain": [
       "                    species   mass\n",
       "0      Aptenodytes forsteri  28.00\n",
       "1   Aptenodytes patagonicus  13.40\n",
       "2       Eudyptes chrysocome   2.80\n",
       "3     Eudyptes chrysolophus   4.50\n",
       "4         Eudyptes sclateri   4.25\n",
       "5           Eudyptula minor   1.60\n",
       "6        Pygoscelis adeliae   4.60\n",
       "7     Pygoscelis antarctica   4.10\n",
       "8          Pygoscelis papua   6.10\n",
       "9       Spheniscus demersus   3.20\n",
       "10     Spheniscus humboldti   4.75\n",
       "11  Spheniscus magellanicus   3.40"
      ]
     },
     "execution_count": 66,
     "metadata": {},
     "output_type": "execute_result"
    }
   ],
   "source": [
    "penguins_df #checking the csv file information\n"
   ]
  },
  {
   "cell_type": "code",
   "execution_count": 67,
   "id": "4a19ad82",
   "metadata": {},
   "outputs": [
    {
     "data": {
      "text/plain": [
       "['Aptenodytes forsteri',\n",
       " 'Aptenodytes patagonicus',\n",
       " 'Eudyptes chrysocome',\n",
       " 'Eudyptes chrysolophus',\n",
       " 'Eudyptes sclateri',\n",
       " 'Eudyptula minor',\n",
       " 'Pygoscelis adeliae',\n",
       " 'Pygoscelis antarctica',\n",
       " 'Pygoscelis papua',\n",
       " 'Spheniscus demersus',\n",
       " 'Spheniscus humboldti',\n",
       " 'Spheniscus magellanicus']"
      ]
     },
     "execution_count": 67,
     "metadata": {},
     "output_type": "execute_result"
    }
   ],
   "source": [
    "species_list"
   ]
  },
  {
   "cell_type": "code",
   "execution_count": 68,
   "id": "0ffe3e77",
   "metadata": {},
   "outputs": [],
   "source": [
    "penguins_df[\"Molecular Weight\"] = penguins_df.shape[0]*[\"NaN\"]\n"
   ]
  },
  {
   "cell_type": "code",
   "execution_count": 69,
   "id": "2a0ec710",
   "metadata": {},
   "outputs": [
    {
     "data": {
      "text/html": [
       "<div>\n",
       "<style scoped>\n",
       "    .dataframe tbody tr th:only-of-type {\n",
       "        vertical-align: middle;\n",
       "    }\n",
       "\n",
       "    .dataframe tbody tr th {\n",
       "        vertical-align: top;\n",
       "    }\n",
       "\n",
       "    .dataframe thead th {\n",
       "        text-align: right;\n",
       "    }\n",
       "</style>\n",
       "<table border=\"1\" class=\"dataframe\">\n",
       "  <thead>\n",
       "    <tr style=\"text-align: right;\">\n",
       "      <th></th>\n",
       "      <th>species</th>\n",
       "      <th>mass</th>\n",
       "      <th>Molecular Weight</th>\n",
       "    </tr>\n",
       "  </thead>\n",
       "  <tbody>\n",
       "    <tr>\n",
       "      <th>0</th>\n",
       "      <td>Aptenodytes forsteri</td>\n",
       "      <td>28.00</td>\n",
       "      <td>NaN</td>\n",
       "    </tr>\n",
       "    <tr>\n",
       "      <th>1</th>\n",
       "      <td>Aptenodytes patagonicus</td>\n",
       "      <td>13.40</td>\n",
       "      <td>NaN</td>\n",
       "    </tr>\n",
       "    <tr>\n",
       "      <th>2</th>\n",
       "      <td>Eudyptes chrysocome</td>\n",
       "      <td>2.80</td>\n",
       "      <td>NaN</td>\n",
       "    </tr>\n",
       "    <tr>\n",
       "      <th>3</th>\n",
       "      <td>Eudyptes chrysolophus</td>\n",
       "      <td>4.50</td>\n",
       "      <td>NaN</td>\n",
       "    </tr>\n",
       "    <tr>\n",
       "      <th>4</th>\n",
       "      <td>Eudyptes sclateri</td>\n",
       "      <td>4.25</td>\n",
       "      <td>NaN</td>\n",
       "    </tr>\n",
       "    <tr>\n",
       "      <th>5</th>\n",
       "      <td>Eudyptula minor</td>\n",
       "      <td>1.60</td>\n",
       "      <td>NaN</td>\n",
       "    </tr>\n",
       "    <tr>\n",
       "      <th>6</th>\n",
       "      <td>Pygoscelis adeliae</td>\n",
       "      <td>4.60</td>\n",
       "      <td>NaN</td>\n",
       "    </tr>\n",
       "    <tr>\n",
       "      <th>7</th>\n",
       "      <td>Pygoscelis antarctica</td>\n",
       "      <td>4.10</td>\n",
       "      <td>NaN</td>\n",
       "    </tr>\n",
       "    <tr>\n",
       "      <th>8</th>\n",
       "      <td>Pygoscelis papua</td>\n",
       "      <td>6.10</td>\n",
       "      <td>NaN</td>\n",
       "    </tr>\n",
       "    <tr>\n",
       "      <th>9</th>\n",
       "      <td>Spheniscus demersus</td>\n",
       "      <td>3.20</td>\n",
       "      <td>NaN</td>\n",
       "    </tr>\n",
       "    <tr>\n",
       "      <th>10</th>\n",
       "      <td>Spheniscus humboldti</td>\n",
       "      <td>4.75</td>\n",
       "      <td>NaN</td>\n",
       "    </tr>\n",
       "    <tr>\n",
       "      <th>11</th>\n",
       "      <td>Spheniscus magellanicus</td>\n",
       "      <td>3.40</td>\n",
       "      <td>NaN</td>\n",
       "    </tr>\n",
       "  </tbody>\n",
       "</table>\n",
       "</div>"
      ],
      "text/plain": [
       "                    species   mass Molecular Weight\n",
       "0      Aptenodytes forsteri  28.00              NaN\n",
       "1   Aptenodytes patagonicus  13.40              NaN\n",
       "2       Eudyptes chrysocome   2.80              NaN\n",
       "3     Eudyptes chrysolophus   4.50              NaN\n",
       "4         Eudyptes sclateri   4.25              NaN\n",
       "5           Eudyptula minor   1.60              NaN\n",
       "6        Pygoscelis adeliae   4.60              NaN\n",
       "7     Pygoscelis antarctica   4.10              NaN\n",
       "8          Pygoscelis papua   6.10              NaN\n",
       "9       Spheniscus demersus   3.20              NaN\n",
       "10     Spheniscus humboldti   4.75              NaN\n",
       "11  Spheniscus magellanicus   3.40              NaN"
      ]
     },
     "execution_count": 69,
     "metadata": {},
     "output_type": "execute_result"
    }
   ],
   "source": [
    "penguins_df"
   ]
  },
  {
   "cell_type": "code",
   "execution_count": 70,
   "id": "7d162ccc",
   "metadata": {},
   "outputs": [
    {
     "data": {
      "text/html": [
       "<div>\n",
       "<style scoped>\n",
       "    .dataframe tbody tr th:only-of-type {\n",
       "        vertical-align: middle;\n",
       "    }\n",
       "\n",
       "    .dataframe tbody tr th {\n",
       "        vertical-align: top;\n",
       "    }\n",
       "\n",
       "    .dataframe thead th {\n",
       "        text-align: right;\n",
       "    }\n",
       "</style>\n",
       "<table border=\"1\" class=\"dataframe\">\n",
       "  <thead>\n",
       "    <tr style=\"text-align: right;\">\n",
       "      <th></th>\n",
       "      <th>species</th>\n",
       "      <th>mass</th>\n",
       "      <th>Molecular Weight</th>\n",
       "      <th>GC content</th>\n",
       "    </tr>\n",
       "  </thead>\n",
       "  <tbody>\n",
       "    <tr>\n",
       "      <th>0</th>\n",
       "      <td>Aptenodytes forsteri</td>\n",
       "      <td>28.00</td>\n",
       "      <td>NaN</td>\n",
       "      <td>NaN</td>\n",
       "    </tr>\n",
       "    <tr>\n",
       "      <th>1</th>\n",
       "      <td>Aptenodytes patagonicus</td>\n",
       "      <td>13.40</td>\n",
       "      <td>NaN</td>\n",
       "      <td>NaN</td>\n",
       "    </tr>\n",
       "    <tr>\n",
       "      <th>2</th>\n",
       "      <td>Eudyptes chrysocome</td>\n",
       "      <td>2.80</td>\n",
       "      <td>NaN</td>\n",
       "      <td>NaN</td>\n",
       "    </tr>\n",
       "    <tr>\n",
       "      <th>3</th>\n",
       "      <td>Eudyptes chrysolophus</td>\n",
       "      <td>4.50</td>\n",
       "      <td>NaN</td>\n",
       "      <td>NaN</td>\n",
       "    </tr>\n",
       "    <tr>\n",
       "      <th>4</th>\n",
       "      <td>Eudyptes sclateri</td>\n",
       "      <td>4.25</td>\n",
       "      <td>NaN</td>\n",
       "      <td>NaN</td>\n",
       "    </tr>\n",
       "    <tr>\n",
       "      <th>5</th>\n",
       "      <td>Eudyptula minor</td>\n",
       "      <td>1.60</td>\n",
       "      <td>NaN</td>\n",
       "      <td>NaN</td>\n",
       "    </tr>\n",
       "    <tr>\n",
       "      <th>6</th>\n",
       "      <td>Pygoscelis adeliae</td>\n",
       "      <td>4.60</td>\n",
       "      <td>NaN</td>\n",
       "      <td>NaN</td>\n",
       "    </tr>\n",
       "    <tr>\n",
       "      <th>7</th>\n",
       "      <td>Pygoscelis antarctica</td>\n",
       "      <td>4.10</td>\n",
       "      <td>NaN</td>\n",
       "      <td>NaN</td>\n",
       "    </tr>\n",
       "    <tr>\n",
       "      <th>8</th>\n",
       "      <td>Pygoscelis papua</td>\n",
       "      <td>6.10</td>\n",
       "      <td>NaN</td>\n",
       "      <td>NaN</td>\n",
       "    </tr>\n",
       "    <tr>\n",
       "      <th>9</th>\n",
       "      <td>Spheniscus demersus</td>\n",
       "      <td>3.20</td>\n",
       "      <td>NaN</td>\n",
       "      <td>NaN</td>\n",
       "    </tr>\n",
       "    <tr>\n",
       "      <th>10</th>\n",
       "      <td>Spheniscus humboldti</td>\n",
       "      <td>4.75</td>\n",
       "      <td>NaN</td>\n",
       "      <td>NaN</td>\n",
       "    </tr>\n",
       "    <tr>\n",
       "      <th>11</th>\n",
       "      <td>Spheniscus magellanicus</td>\n",
       "      <td>3.40</td>\n",
       "      <td>NaN</td>\n",
       "      <td>NaN</td>\n",
       "    </tr>\n",
       "  </tbody>\n",
       "</table>\n",
       "</div>"
      ],
      "text/plain": [
       "                    species   mass Molecular Weight GC content\n",
       "0      Aptenodytes forsteri  28.00              NaN        NaN\n",
       "1   Aptenodytes patagonicus  13.40              NaN        NaN\n",
       "2       Eudyptes chrysocome   2.80              NaN        NaN\n",
       "3     Eudyptes chrysolophus   4.50              NaN        NaN\n",
       "4         Eudyptes sclateri   4.25              NaN        NaN\n",
       "5           Eudyptula minor   1.60              NaN        NaN\n",
       "6        Pygoscelis adeliae   4.60              NaN        NaN\n",
       "7     Pygoscelis antarctica   4.10              NaN        NaN\n",
       "8          Pygoscelis papua   6.10              NaN        NaN\n",
       "9       Spheniscus demersus   3.20              NaN        NaN\n",
       "10     Spheniscus humboldti   4.75              NaN        NaN\n",
       "11  Spheniscus magellanicus   3.40              NaN        NaN"
      ]
     },
     "execution_count": 70,
     "metadata": {},
     "output_type": "execute_result"
    }
   ],
   "source": [
    "penguins_df[\"GC content\"] = penguins_df.shape[0] * [\"NaN\"]\n",
    "penguins_df\n"
   ]
  },
  {
   "cell_type": "code",
   "execution_count": 71,
   "id": "8df45414",
   "metadata": {},
   "outputs": [
    {
     "name": "stdout",
     "output_type": "stream",
     "text": [
      "                    species   mass  Molecular Weight  GC content\n",
      "0      Aptenodytes forsteri  28.00        42459.6021   48.381452\n",
      "1   Aptenodytes patagonicus  13.40        42563.7067   49.693788\n",
      "2       Eudyptes chrysocome   2.80        42475.5753   51.181102\n",
      "3     Eudyptes chrysolophus   4.50        42445.5493   50.918635\n",
      "4         Eudyptes sclateri   4.25        42475.5753   50.831146\n",
      "5           Eudyptula minor   1.60        42491.6408   49.256343\n",
      "6        Pygoscelis adeliae   4.60        42458.6140   49.081365\n",
      "7     Pygoscelis antarctica   4.10        42404.5423   47.769029\n",
      "8          Pygoscelis papua   6.10        42595.8759   47.156605\n",
      "9       Spheniscus demersus   3.20        42431.5490   48.293963\n",
      "10     Spheniscus humboldti   4.75        42399.5520   49.256343\n",
      "11  Spheniscus magellanicus   3.40        42459.6021   48.206474\n"
     ]
    }
   ],
   "source": [
    "# Start empty lists to collect values\n",
    "Molecular_w_list = []\n",
    "GC_content_list = []\n",
    "\n",
    "# Loop through your cytochrome b sequences\n",
    "for key, value in cytb_seqs.items():\n",
    "    aa_seq = translate(value)  # Use your custom translate() function\n",
    "    mol_wt = compute_molecular_weight(str(aa_seq))  # Compute molecular weight\n",
    "    gc_perc = gc_content(value) * 100  # Convert GC fraction to percentage\n",
    "\n",
    "    Molecular_w_list.append(mol_wt)\n",
    "    GC_content_list.append(gc_perc)\n",
    "\n",
    "# Assign the computed values to the DataFrame columns\n",
    "penguins_df[\"Molecular Weight\"] = Molecular_w_list\n",
    "penguins_df[\"GC content\"] = GC_content_list\n",
    "\n",
    "# Print the updated DataFrame\n",
    "print(penguins_df)\n"
   ]
  },
  {
   "cell_type": "code",
   "execution_count": 72,
   "id": "c3345499",
   "metadata": {},
   "outputs": [],
   "source": [
    "%matplotlib inline\n"
   ]
  },
  {
   "cell_type": "code",
   "execution_count": 77,
   "id": "07fc94ff",
   "metadata": {},
   "outputs": [
    {
     "data": {
      "image/png": "[encoded data removed]",
      "text/plain": [
       "<Figure size 640x480 with 1 Axes>"
      ]
     },
     "metadata": {},
     "output_type": "display_data"
    }
   ],
   "source": [
    "penguins_df.plot(kind='bar', x='species', y='mass')\n",
    "plt.title('Mass of Each Penguin Species')\n",
    "plt.ylabel('Mass (g)')\n",
    "plt.xlabel('Species')\n",
    "plt.xticks(rotation=90)\n",
    "plt.tight_layout()\n",
    "plt.show()\n",
    "### a. Eudyptula minor is the smallest penguin species\n",
    "### b. Coastlines of southern Australia and New Zealand\n",
    "### Source: https://www.wildlife.vic.gov.au/__data/assets/pdf_file/0023/91391/Little-Penguin.pdf"
   ]
  },
  {
   "cell_type": "code",
   "execution_count": 74,
   "id": "ba84e054",
   "metadata": {},
   "outputs": [
    {
     "data": {
      "image/png": "[encoded data removed]",
      "text/plain": [
       "<Figure size 640x480 with 1 Axes>"
      ]
     },
     "metadata": {},
     "output_type": "display_data"
    }
   ],
   "source": [
    "import matplotlib.pyplot as plt\n",
    "\n",
    "fig, ax = plt.subplots()\n",
    "\n",
    "# Plotting scatter with a label so the legend can display it\n",
    "my_scatter_plot = ax.scatter(\n",
    "    penguins_df[\"GC content\"],\n",
    "    penguins_df[\"Molecular Weight\"],\n",
    "    label=\"Penguin Samples\",\n",
    "    c='teal'  # Optional: adds color for better visibility\n",
    ")\n",
    "\n",
    "# Adding titles and labels\n",
    "plt.title(\"GC Content by Molecular Weight\")\n",
    "plt.xlabel(\"GC Content (%)\")\n",
    "plt.ylabel(\"Molecular Weight (Da)\")\n",
    "plt.legend()  # Will now show \"Penguin Samples\"\n",
    "plt.tight_layout()\n",
    "plt.show()\n"
   ]
  },
  {
   "cell_type": "code",
   "execution_count": 75,
   "id": "cb86c97d",
   "metadata": {},
   "outputs": [],
   "source": [
    "penguins_df.to_csv('penguins_mass_cytb.csv', index=False)\n"
   ]
  },
  {
   "cell_type": "code",
   "execution_count": null,
   "id": "ff2a53dc",
   "metadata": {},
   "outputs": [],
   "source": []
  }
 ],
 "metadata": {
  "kernelspec": {
   "display_name": "Python3 (BCB/EEOB 546)",
   "language": "python",
   "name": "notebook"
  },
  "language_info": {
   "codemirror_mode": {
    "name": "ipython",
    "version": 3
   },
   "file_extension": ".py",
   "mimetype": "text/x-python",
   "name": "python",
   "nbconvert_exporter": "python",
   "pygments_lexer": "ipython3",
   "version": "3.13.3"
  }
 },
 "nbformat": 4,
 "nbformat_minor": 5
}
